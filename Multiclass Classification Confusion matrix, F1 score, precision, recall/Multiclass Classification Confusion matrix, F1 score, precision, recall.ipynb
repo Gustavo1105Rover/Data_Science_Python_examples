{
 "cells": [
  {
   "cell_type": "code",
   "execution_count": 6,
   "metadata": {},
   "outputs": [],
   "source": [
    "##############################################################################################################################\n",
    "#Purpose: This script will discover what's ML model were better using confusion Matrix and f1-score\n",
    "#Author: Gustavo Pires Rover\n",
    "#Comments: \n",
    "#Date: 08/07/2021\n",
    "##############################################################################################################################"
   ]
  },
  {
   "cell_type": "code",
   "execution_count": 66,
   "metadata": {},
   "outputs": [],
   "source": [
    "######################################\n",
    "# libraries\n",
    "######################################\n",
    "import pandas as pd\n",
    "import numpy as np\n",
    "import matplotlib.pyplot as plt\n",
    "import seaborn as sn\n",
    "from sklearn.metrics import classification_report"
   ]
  },
  {
   "cell_type": "code",
   "execution_count": 61,
   "metadata": {},
   "outputs": [],
   "source": [
    "model1_pred=pd.read_excel(\"Model1_Output.xlsx\",index_col=[0])\n",
    "model2_pred=pd.read_excel(\"Model2_Output.xlsx\",index_col=[0])"
   ]
  },
  {
   "cell_type": "code",
   "execution_count": 11,
   "metadata": {},
   "outputs": [
    {
     "data": {
      "text/plain": [
       "<bound method NDFrame.head of      Actual_class Predicted_class  Prob\n",
       "S.No                                   \n",
       "1      Chimpanzee      Chimpanzee  0.66\n",
       "2             Cow             Cow  0.61\n",
       "3             Dog             Dog  0.56\n",
       "4             Dog             Dog  0.95\n",
       "5             Cat             Cat  0.91\n",
       "...           ...             ...   ...\n",
       "550          Lion            Lion  0.82\n",
       "551           Cat             Cat  0.80\n",
       "552    Chimpanzee           Panda  0.83\n",
       "553           Cow             Cow  0.96\n",
       "554           Cow             Cow  0.71\n",
       "\n",
       "[554 rows x 3 columns]>"
      ]
     },
     "execution_count": 11,
     "metadata": {},
     "output_type": "execute_result"
    }
   ],
   "source": [
    "model1_pred.head"
   ]
  },
  {
   "cell_type": "code",
   "execution_count": 12,
   "metadata": {},
   "outputs": [
    {
     "data": {
      "text/html": [
       "<div>\n",
       "<style scoped>\n",
       "    .dataframe tbody tr th:only-of-type {\n",
       "        vertical-align: middle;\n",
       "    }\n",
       "\n",
       "    .dataframe tbody tr th {\n",
       "        vertical-align: top;\n",
       "    }\n",
       "\n",
       "    .dataframe thead th {\n",
       "        text-align: right;\n",
       "    }\n",
       "</style>\n",
       "<table border=\"1\" class=\"dataframe\">\n",
       "  <thead>\n",
       "    <tr style=\"text-align: right;\">\n",
       "      <th>Actual_class</th>\n",
       "      <th>Cat</th>\n",
       "      <th>Chimpanzee</th>\n",
       "      <th>Cow</th>\n",
       "      <th>Dog</th>\n",
       "      <th>Elephent</th>\n",
       "      <th>Lion</th>\n",
       "      <th>Panda</th>\n",
       "      <th>Spider</th>\n",
       "    </tr>\n",
       "    <tr>\n",
       "      <th>Predicted_class</th>\n",
       "      <th></th>\n",
       "      <th></th>\n",
       "      <th></th>\n",
       "      <th></th>\n",
       "      <th></th>\n",
       "      <th></th>\n",
       "      <th></th>\n",
       "      <th></th>\n",
       "    </tr>\n",
       "  </thead>\n",
       "  <tbody>\n",
       "    <tr>\n",
       "      <th>Cat</th>\n",
       "      <td>60</td>\n",
       "      <td>0</td>\n",
       "      <td>0</td>\n",
       "      <td>1</td>\n",
       "      <td>0</td>\n",
       "      <td>3</td>\n",
       "      <td>0</td>\n",
       "      <td>0</td>\n",
       "    </tr>\n",
       "    <tr>\n",
       "      <th>Chimpanzee</th>\n",
       "      <td>0</td>\n",
       "      <td>31</td>\n",
       "      <td>0</td>\n",
       "      <td>0</td>\n",
       "      <td>0</td>\n",
       "      <td>0</td>\n",
       "      <td>1</td>\n",
       "      <td>0</td>\n",
       "    </tr>\n",
       "    <tr>\n",
       "      <th>Cow</th>\n",
       "      <td>0</td>\n",
       "      <td>0</td>\n",
       "      <td>76</td>\n",
       "      <td>0</td>\n",
       "      <td>0</td>\n",
       "      <td>0</td>\n",
       "      <td>0</td>\n",
       "      <td>0</td>\n",
       "    </tr>\n",
       "    <tr>\n",
       "      <th>Dog</th>\n",
       "      <td>2</td>\n",
       "      <td>0</td>\n",
       "      <td>2</td>\n",
       "      <td>63</td>\n",
       "      <td>0</td>\n",
       "      <td>0</td>\n",
       "      <td>0</td>\n",
       "      <td>0</td>\n",
       "    </tr>\n",
       "    <tr>\n",
       "      <th>Elephent</th>\n",
       "      <td>0</td>\n",
       "      <td>0</td>\n",
       "      <td>0</td>\n",
       "      <td>0</td>\n",
       "      <td>72</td>\n",
       "      <td>0</td>\n",
       "      <td>0</td>\n",
       "      <td>0</td>\n",
       "    </tr>\n",
       "    <tr>\n",
       "      <th>Lion</th>\n",
       "      <td>4</td>\n",
       "      <td>0</td>\n",
       "      <td>0</td>\n",
       "      <td>0</td>\n",
       "      <td>0</td>\n",
       "      <td>65</td>\n",
       "      <td>0</td>\n",
       "      <td>0</td>\n",
       "    </tr>\n",
       "    <tr>\n",
       "      <th>Panda</th>\n",
       "      <td>0</td>\n",
       "      <td>28</td>\n",
       "      <td>0</td>\n",
       "      <td>0</td>\n",
       "      <td>0</td>\n",
       "      <td>0</td>\n",
       "      <td>73</td>\n",
       "      <td>0</td>\n",
       "    </tr>\n",
       "    <tr>\n",
       "      <th>Spider</th>\n",
       "      <td>0</td>\n",
       "      <td>0</td>\n",
       "      <td>0</td>\n",
       "      <td>0</td>\n",
       "      <td>0</td>\n",
       "      <td>0</td>\n",
       "      <td>1</td>\n",
       "      <td>72</td>\n",
       "    </tr>\n",
       "  </tbody>\n",
       "</table>\n",
       "</div>"
      ],
      "text/plain": [
       "Actual_class     Cat  Chimpanzee  Cow  Dog  Elephent  Lion  Panda  Spider\n",
       "Predicted_class                                                          \n",
       "Cat               60           0    0    1         0     3      0       0\n",
       "Chimpanzee         0          31    0    0         0     0      1       0\n",
       "Cow                0           0   76    0         0     0      0       0\n",
       "Dog                2           0    2   63         0     0      0       0\n",
       "Elephent           0           0    0    0        72     0      0       0\n",
       "Lion               4           0    0    0         0    65      0       0\n",
       "Panda              0          28    0    0         0     0     73       0\n",
       "Spider             0           0    0    0         0     0      1      72"
      ]
     },
     "execution_count": 12,
     "metadata": {},
     "output_type": "execute_result"
    }
   ],
   "source": [
    "######################################\n",
    "# Generating a confusion Matrix\n",
    "# There are a 60 cats predictled correctly, but 1 dog was preidcted like a cat and 3 lions were predicted like a cat\n",
    "######################################\n",
    "\n",
    "pd.crosstab(model1_pred.Predicted_class,model1_pred.Actual_class)"
   ]
  },
  {
   "cell_type": "code",
   "execution_count": 13,
   "metadata": {},
   "outputs": [],
   "source": [
    "confusionM1 = pd.crosstab(model1_pred.Predicted_class,model1_pred.Actual_class)\n",
    "confusionM2 = pd.crosstab(model2_pred.Predicted_class,model2_pred.Actual_class)"
   ]
  },
  {
   "cell_type": "code",
   "execution_count": 27,
   "metadata": {},
   "outputs": [
    {
     "data": {
      "text/plain": [
       "Text(0.5, 1.0, 'Model 2')"
      ]
     },
     "execution_count": 27,
     "metadata": {},
     "output_type": "execute_result"
    },
    {
     "data": {
      "image/png": "[encoded data removed]",
      "text/plain": [
       "<Figure size 1224x360 with 4 Axes>"
      ]
     },
     "metadata": {
      "needs_background": "light"
     },
     "output_type": "display_data"
    }
   ],
   "source": [
    "######################################\n",
    "# Generating a figures for my confusion Matrix\n",
    "######################################\n",
    "'''\n",
    "M1 has a confusing changind pandas with cimpanzzes\n",
    "'''\n",
    "fig = plt.figure(figsize=(17,5))\n",
    "ax1 = plt.subplot(121)\n",
    "sn.heatmap(confusionM1,annot=True,cmap='Blues')\n",
    "ax1.set_title(\"Model 1\")\n",
    "'''\n",
    "M2 has a lot of confusing\n",
    "'''ax2 = plt.subplot(122)\n",
    "sn.heatmap(confusionM2,annot=True,cmap='Blues')\n",
    "ax2.set_title(\"Model 2\")"
   ]
  },
  {
   "cell_type": "code",
   "execution_count": 36,
   "metadata": {},
   "outputs": [
    {
     "name": "stdout",
     "output_type": "stream",
     "text": [
      "Model 1: 0.924187725631769\n",
      "Model 2: 0.8826714801444043\n"
     ]
    }
   ],
   "source": [
    "######################################\n",
    "# Checking the overall accurancy for the Models\n",
    "######################################\n",
    "print(\"Model 1:\", np.diag(confusionM1).sum() / confusionM1.sum().sum())\n",
    "print(\"Model 2:\", np.diag(confusionM2).sum() / confusionM2.sum().sum())"
   ]
  },
  {
   "cell_type": "code",
   "execution_count": 50,
   "metadata": {},
   "outputs": [],
   "source": [
    "######################################\n",
    "# F1 score\n",
    "######################################\n",
    "#True positive\n",
    "TP = confusionM1.iloc[0,0]\n",
    "#False positive\n",
    "FP = confusionM1.iloc[0,:].sum() - TP\n",
    "#False negative\n",
    "FN = confusionM1.iloc[:,0].sum() - TP\n",
    "#True negative\n",
    "TN = confusionM1.sum().sum() - TP-FP-FN\n",
    "Accuracy = (TP+TN)/ confusionM1.sum().sum()\n",
    "Precision = TP/(TP+FP)\n",
    "Recall = TP/(TP+FN)\n",
    "F1score= (2 * Precision*Recall)/(Precision + Recall)"
   ]
  },
  {
   "cell_type": "code",
   "execution_count": 51,
   "metadata": {},
   "outputs": [
    {
     "data": {
      "text/plain": [
       "0.9819494584837545"
      ]
     },
     "execution_count": 51,
     "metadata": {},
     "output_type": "execute_result"
    }
   ],
   "source": [
    "Accuracy"
   ]
  },
  {
   "cell_type": "code",
   "execution_count": 52,
   "metadata": {},
   "outputs": [
    {
     "name": "stdout",
     "output_type": "stream",
     "text": [
      "Precision: 0.9375\n",
      "Recall: 0.9090909090909091\n"
     ]
    }
   ],
   "source": [
    "print(\"Precision:\",Precision)\n",
    "print(\"Recall:\",Recall)"
   ]
  },
  {
   "cell_type": "code",
   "execution_count": 53,
   "metadata": {},
   "outputs": [
    {
     "data": {
      "text/plain": [
       "0.923076923076923"
      ]
     },
     "execution_count": 53,
     "metadata": {},
     "output_type": "execute_result"
    }
   ],
   "source": [
    "F1score"
   ]
  },
  {
   "cell_type": "code",
   "execution_count": 57,
   "metadata": {},
   "outputs": [
    {
     "name": "stdout",
     "output_type": "stream",
     "text": [
      "Cat Accuracy: 0.9819494584837545 Precision 0.9375 Recall 0.9090909090909091 F1score 0.923076923076923\n",
      "Chimpanzee Accuracy: 0.9476534296028881 Precision 0.96875 Recall 0.5254237288135594 F1score 0.6813186813186813\n",
      "Cow Accuracy: 0.9963898916967509 Precision 1.0 Recall 0.9743589743589743 F1score 0.9870129870129869\n",
      "Dog Accuracy: 0.9909747292418772 Precision 0.9402985074626866 Recall 0.984375 F1score 0.9618320610687023\n",
      "Elephent Accuracy: 1.0 Precision 1.0 Recall 1.0 F1score 1.0\n",
      "Lion Accuracy: 0.9873646209386282 Precision 0.9420289855072463 Recall 0.9558823529411765 F1score 0.9489051094890512\n",
      "Panda Accuracy: 0.9458483754512635 Precision 0.7227722772277227 Recall 0.9733333333333334 F1score 0.8295454545454545\n",
      "Spider Accuracy: 0.9981949458483754 Precision 0.9863013698630136 Recall 1.0 F1score 0.993103448275862\n",
      "\n",
      "\n",
      "Cat Accuracy: 0.9584837545126353 Precision 0.8307692307692308 Recall 0.8181818181818182 F1score 0.8244274809160306\n",
      "Chimpanzee Accuracy: 0.9783393501805054 Precision 0.873015873015873 Recall 0.9322033898305084 F1score 0.9016393442622951\n",
      "Cow Accuracy: 0.9873646209386282 Precision 0.9733333333333334 Recall 0.9358974358974359 F1score 0.954248366013072\n",
      "Dog Accuracy: 0.9548736462093863 Precision 0.9148936170212766 Recall 0.671875 F1score 0.7747747747747749\n",
      "Elephent Accuracy: 0.9638989169675091 Precision 0.90625 Recall 0.8055555555555556 F1score 0.8529411764705882\n",
      "Lion Accuracy: 0.9620938628158845 Precision 0.8133333333333334 Recall 0.8970588235294118 F1score 0.8531468531468531\n",
      "Panda Accuracy: 0.9620938628158845 Precision 0.7934782608695652 Recall 0.9733333333333334 F1score 0.874251497005988\n",
      "Spider Accuracy: 0.9981949458483754 Precision 0.9863013698630136 Recall 1.0 F1score 0.993103448275862\n"
     ]
    }
   ],
   "source": [
    "######################################\n",
    "# F1 score for all the elements\n",
    "######################################\n",
    "for i in range(confusionM1.shape[0]):\n",
    "    #True positive\n",
    "    TP = confusionM1.iloc[i,i]\n",
    "    #False positive\n",
    "    FP = confusionM1.iloc[i,:].sum() - TP\n",
    "    #False negative\n",
    "    FN = confusionM1.iloc[:,i].sum() - TP\n",
    "    #True negative\n",
    "    TN = confusionM1.sum().sum() - TP-FP-FN\n",
    "    Accuracy = (TP+TN)/ confusionM1.sum().sum()\n",
    "    Precision = TP/(TP+FP)\n",
    "    Recall = TP/(TP+FN)\n",
    "    F1score= (2 * Precision*Recall)/(Precision + Recall)\n",
    "    print(confusionM1.index[i],\"Accuracy:\",Accuracy,\"Precision\",Precision,\"Recall\",Recall,\"F1score\",F1score)\n",
    "print(\"\")\n",
    "print(\"\")\n",
    "for i in range(confusionM2.shape[0]):\n",
    "    #True positive\n",
    "    TP = confusionM2.iloc[i,i]\n",
    "    #False positive\n",
    "    FP = confusionM2.iloc[i,:].sum() - TP\n",
    "    #False negative\n",
    "    FN = confusionM2.iloc[:,i].sum() - TP\n",
    "    #True negative\n",
    "    TN = confusionM2.sum().sum() - TP-FP-FN\n",
    "    Accuracy = (TP+TN)/ confusionM2.sum().sum()\n",
    "    Precision = TP/(TP+FP)\n",
    "    Recall = TP/(TP+FN)\n",
    "    F1score= (2 * Precision*Recall)/(Precision + Recall)\n",
    "    print(confusionM2.index[i],\"Accuracy:\",Accuracy,\"Precision\",Precision,\"Recall\",Recall,\"F1score\",F1score)\n",
    "    "
   ]
  },
  {
   "cell_type": "code",
   "execution_count": 70,
   "metadata": {},
   "outputs": [
    {
     "data": {
      "text/html": [
       "<div>\n",
       "<style scoped>\n",
       "    .dataframe tbody tr th:only-of-type {\n",
       "        vertical-align: middle;\n",
       "    }\n",
       "\n",
       "    .dataframe tbody tr th {\n",
       "        vertical-align: top;\n",
       "    }\n",
       "\n",
       "    .dataframe thead th {\n",
       "        text-align: right;\n",
       "    }\n",
       "</style>\n",
       "<table border=\"1\" class=\"dataframe\">\n",
       "  <thead>\n",
       "    <tr style=\"text-align: right;\">\n",
       "      <th></th>\n",
       "      <th>precision</th>\n",
       "      <th>recall</th>\n",
       "      <th>f1-score</th>\n",
       "      <th>support</th>\n",
       "    </tr>\n",
       "  </thead>\n",
       "  <tbody>\n",
       "    <tr>\n",
       "      <th>Cat</th>\n",
       "      <td>0.937500</td>\n",
       "      <td>0.909091</td>\n",
       "      <td>0.923077</td>\n",
       "      <td>66.000000</td>\n",
       "    </tr>\n",
       "    <tr>\n",
       "      <th>Chimpanzee</th>\n",
       "      <td>0.968750</td>\n",
       "      <td>0.525424</td>\n",
       "      <td>0.681319</td>\n",
       "      <td>59.000000</td>\n",
       "    </tr>\n",
       "    <tr>\n",
       "      <th>Cow</th>\n",
       "      <td>1.000000</td>\n",
       "      <td>0.974359</td>\n",
       "      <td>0.987013</td>\n",
       "      <td>78.000000</td>\n",
       "    </tr>\n",
       "    <tr>\n",
       "      <th>Dog</th>\n",
       "      <td>0.940299</td>\n",
       "      <td>0.984375</td>\n",
       "      <td>0.961832</td>\n",
       "      <td>64.000000</td>\n",
       "    </tr>\n",
       "    <tr>\n",
       "      <th>Elephent</th>\n",
       "      <td>1.000000</td>\n",
       "      <td>1.000000</td>\n",
       "      <td>1.000000</td>\n",
       "      <td>72.000000</td>\n",
       "    </tr>\n",
       "    <tr>\n",
       "      <th>Lion</th>\n",
       "      <td>0.942029</td>\n",
       "      <td>0.955882</td>\n",
       "      <td>0.948905</td>\n",
       "      <td>68.000000</td>\n",
       "    </tr>\n",
       "    <tr>\n",
       "      <th>Panda</th>\n",
       "      <td>0.722772</td>\n",
       "      <td>0.973333</td>\n",
       "      <td>0.829545</td>\n",
       "      <td>75.000000</td>\n",
       "    </tr>\n",
       "    <tr>\n",
       "      <th>Spider</th>\n",
       "      <td>0.986301</td>\n",
       "      <td>1.000000</td>\n",
       "      <td>0.993103</td>\n",
       "      <td>72.000000</td>\n",
       "    </tr>\n",
       "    <tr>\n",
       "      <th>accuracy</th>\n",
       "      <td>0.924188</td>\n",
       "      <td>0.924188</td>\n",
       "      <td>0.924188</td>\n",
       "      <td>0.924188</td>\n",
       "    </tr>\n",
       "    <tr>\n",
       "      <th>macro avg</th>\n",
       "      <td>0.937206</td>\n",
       "      <td>0.915308</td>\n",
       "      <td>0.915599</td>\n",
       "      <td>554.000000</td>\n",
       "    </tr>\n",
       "    <tr>\n",
       "      <th>weighted avg</th>\n",
       "      <td>0.935902</td>\n",
       "      <td>0.924188</td>\n",
       "      <td>0.920415</td>\n",
       "      <td>554.000000</td>\n",
       "    </tr>\n",
       "  </tbody>\n",
       "</table>\n",
       "</div>"
      ],
      "text/plain": [
       "              precision    recall  f1-score     support\n",
       "Cat            0.937500  0.909091  0.923077   66.000000\n",
       "Chimpanzee     0.968750  0.525424  0.681319   59.000000\n",
       "Cow            1.000000  0.974359  0.987013   78.000000\n",
       "Dog            0.940299  0.984375  0.961832   64.000000\n",
       "Elephent       1.000000  1.000000  1.000000   72.000000\n",
       "Lion           0.942029  0.955882  0.948905   68.000000\n",
       "Panda          0.722772  0.973333  0.829545   75.000000\n",
       "Spider         0.986301  1.000000  0.993103   72.000000\n",
       "accuracy       0.924188  0.924188  0.924188    0.924188\n",
       "macro avg      0.937206  0.915308  0.915599  554.000000\n",
       "weighted avg   0.935902  0.924188  0.920415  554.000000"
      ]
     },
     "execution_count": 70,
     "metadata": {},
     "output_type": "execute_result"
    }
   ],
   "source": [
    "pd.DataFrame(classification_report(model1_pred.Actual_class,model1_pred.Predicted_class,output_dict=True)).T"
   ]
  },
  {
   "cell_type": "code",
   "execution_count": 71,
   "metadata": {},
   "outputs": [
    {
     "data": {
      "text/html": [
       "<div>\n",
       "<style scoped>\n",
       "    .dataframe tbody tr th:only-of-type {\n",
       "        vertical-align: middle;\n",
       "    }\n",
       "\n",
       "    .dataframe tbody tr th {\n",
       "        vertical-align: top;\n",
       "    }\n",
       "\n",
       "    .dataframe thead th {\n",
       "        text-align: right;\n",
       "    }\n",
       "</style>\n",
       "<table border=\"1\" class=\"dataframe\">\n",
       "  <thead>\n",
       "    <tr style=\"text-align: right;\">\n",
       "      <th></th>\n",
       "      <th>precision</th>\n",
       "      <th>recall</th>\n",
       "      <th>f1-score</th>\n",
       "      <th>support</th>\n",
       "    </tr>\n",
       "  </thead>\n",
       "  <tbody>\n",
       "    <tr>\n",
       "      <th>Cat</th>\n",
       "      <td>0.830769</td>\n",
       "      <td>0.818182</td>\n",
       "      <td>0.824427</td>\n",
       "      <td>66.000000</td>\n",
       "    </tr>\n",
       "    <tr>\n",
       "      <th>Chimpanzee</th>\n",
       "      <td>0.873016</td>\n",
       "      <td>0.932203</td>\n",
       "      <td>0.901639</td>\n",
       "      <td>59.000000</td>\n",
       "    </tr>\n",
       "    <tr>\n",
       "      <th>Cow</th>\n",
       "      <td>0.973333</td>\n",
       "      <td>0.935897</td>\n",
       "      <td>0.954248</td>\n",
       "      <td>78.000000</td>\n",
       "    </tr>\n",
       "    <tr>\n",
       "      <th>Dog</th>\n",
       "      <td>0.914894</td>\n",
       "      <td>0.671875</td>\n",
       "      <td>0.774775</td>\n",
       "      <td>64.000000</td>\n",
       "    </tr>\n",
       "    <tr>\n",
       "      <th>Elephent</th>\n",
       "      <td>0.906250</td>\n",
       "      <td>0.805556</td>\n",
       "      <td>0.852941</td>\n",
       "      <td>72.000000</td>\n",
       "    </tr>\n",
       "    <tr>\n",
       "      <th>Lion</th>\n",
       "      <td>0.813333</td>\n",
       "      <td>0.897059</td>\n",
       "      <td>0.853147</td>\n",
       "      <td>68.000000</td>\n",
       "    </tr>\n",
       "    <tr>\n",
       "      <th>Panda</th>\n",
       "      <td>0.793478</td>\n",
       "      <td>0.973333</td>\n",
       "      <td>0.874251</td>\n",
       "      <td>75.000000</td>\n",
       "    </tr>\n",
       "    <tr>\n",
       "      <th>Spider</th>\n",
       "      <td>0.986301</td>\n",
       "      <td>1.000000</td>\n",
       "      <td>0.993103</td>\n",
       "      <td>72.000000</td>\n",
       "    </tr>\n",
       "    <tr>\n",
       "      <th>accuracy</th>\n",
       "      <td>0.882671</td>\n",
       "      <td>0.882671</td>\n",
       "      <td>0.882671</td>\n",
       "      <td>0.882671</td>\n",
       "    </tr>\n",
       "    <tr>\n",
       "      <th>macro avg</th>\n",
       "      <td>0.886422</td>\n",
       "      <td>0.879263</td>\n",
       "      <td>0.878567</td>\n",
       "      <td>554.000000</td>\n",
       "    </tr>\n",
       "    <tr>\n",
       "      <th>weighted avg</th>\n",
       "      <td>0.887894</td>\n",
       "      <td>0.882671</td>\n",
       "      <td>0.881090</td>\n",
       "      <td>554.000000</td>\n",
       "    </tr>\n",
       "  </tbody>\n",
       "</table>\n",
       "</div>"
      ],
      "text/plain": [
       "              precision    recall  f1-score     support\n",
       "Cat            0.830769  0.818182  0.824427   66.000000\n",
       "Chimpanzee     0.873016  0.932203  0.901639   59.000000\n",
       "Cow            0.973333  0.935897  0.954248   78.000000\n",
       "Dog            0.914894  0.671875  0.774775   64.000000\n",
       "Elephent       0.906250  0.805556  0.852941   72.000000\n",
       "Lion           0.813333  0.897059  0.853147   68.000000\n",
       "Panda          0.793478  0.973333  0.874251   75.000000\n",
       "Spider         0.986301  1.000000  0.993103   72.000000\n",
       "accuracy       0.882671  0.882671  0.882671    0.882671\n",
       "macro avg      0.886422  0.879263  0.878567  554.000000\n",
       "weighted avg   0.887894  0.882671  0.881090  554.000000"
      ]
     },
     "execution_count": 71,
     "metadata": {},
     "output_type": "execute_result"
    }
   ],
   "source": [
    "pd.DataFrame(classification_report(model2_pred.Actual_class,model2_pred.Predicted_class,output_dict=True)).T"
   ]
  },
  {
   "cell_type": "code",
   "execution_count": null,
   "metadata": {},
   "outputs": [],
   "source": [
    "################################################\n",
    "# M1 is better but M2 its better just for PANDA\n",
    "################################################"
   ]
  }
 ],
 "metadata": {
  "kernelspec": {
   "display_name": "Python 3 (ipykernel)",
   "language": "python",
   "name": "python3"
  },
  "language_info": {
   "codemirror_mode": {
    "name": "ipython",
    "version": 3
   },
   "file_extension": ".py",
   "mimetype": "text/x-python",
   "name": "python",
   "nbconvert_exporter": "python",
   "pygments_lexer": "ipython3",
   "version": "3.8.5"
  }
 },
 "nbformat": 4,
 "nbformat_minor": 4
}
